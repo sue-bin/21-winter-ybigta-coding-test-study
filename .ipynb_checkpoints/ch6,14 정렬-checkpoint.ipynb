{
 "cells": [
  {
   "cell_type": "markdown",
   "metadata": {},
   "source": [
    "## 실전문제(3) 음료수 얼려먹기"
   ]
  },
  {
   "cell_type": "code",
   "execution_count": null,
   "metadata": {},
   "outputs": [],
   "source": [
    "n,m = map(int, input().split()) #받은 것들을 스플릿 후 정수로 바꾸고 저장\n",
    "\n",
    "graph = []\n",
    "for i in range(n):\n",
    "    graph.append(list(map(int, input().split())))\n",
    "     \n",
    "def dfs(x,y):\n",
    "    if x<= -1 or x>= n or y<=-1 or y>=m:\n",
    "        return False\n",
    "    \n",
    "    if graph[x][y] == 0:\n",
    "        graph[x][y] = 1\n",
    "        dfs(x-1,y)\n",
    "        dfs(x,y-1)\n",
    "        dfs(x+1,y)\n",
    "        dfs(x,y+1) #dfs!\n",
    "        return True #다 1이 돼서 True 나오는 시점이 3번 있음!\n",
    "    return False\n",
    "\n",
    "result = 0\n",
    "for i in range(n):\n",
    "    for j in range(m):\n",
    "        if dfs(i,j) == True:\n",
    "            result += 1"
   ]
  },
  {
   "cell_type": "markdown",
   "metadata": {},
   "source": [
    "## 실전문제(4) 미로 탈출"
   ]
  },
  {
   "cell_type": "code",
   "execution_count": null,
   "metadata": {},
   "outputs": [],
   "source": [
    "from collections import deque\n",
    "\n",
    "n,m = map(int,input().split())\n",
    "\n",
    "graph = []\n",
    "for i in range(n):\n",
    "    graph.append(list(map(int,input().split())))\n",
    "\n",
    "dx = [-1,1,0,0]\n",
    "dy = [0,0,-1,1]\n",
    "\n",
    "def bfs(x,y):\n",
    "    queue = deque()\n",
    "    queue.append((x,y))\n",
    "    while queue:\n",
    "        x,y = queue.popleft()\n",
    "        \n",
    "        for i in rnage(4):\n",
    "            nx = x + dx[i]\n",
    "            ny = y + dx[i]\n",
    "            \n",
    "            if nx<0 or ny<0 or nx>=n or ny>=m:\n",
    "                continue\n",
    "            if graph[nx][ny] == 0:\n",
    "                continue\n",
    "            if graph[nx][ny] == 1:\n",
    "                graph[nx][ny] = graph[x][y] + 1\n",
    "                queue.append((nx,ny))\n",
    "    return graph[n-1,m-1]\n",
    "\n",
    "print(bfs(0,0))"
   ]
  },
  {
   "cell_type": "markdown",
   "metadata": {},
   "source": [
    "## 기출문제(15) 특정 거리의 도시 찾기"
   ]
  },
  {
   "cell_type": "code",
   "execution_count": 20,
   "metadata": {},
   "outputs": [
    {
     "name": "stdin",
     "output_type": "stream",
     "text": [
      " 4 4 1 1\n",
      " 1 2\n",
      " 1 3\n",
      " 2 3\n",
      " 2 4\n"
     ]
    },
    {
     "name": "stdout",
     "output_type": "stream",
     "text": [
      "3\n"
     ]
    }
   ],
   "source": [
    "from collections import deque\n",
    "\n",
    "n, m, k, x = map(int,input().split())\n",
    "\n",
    "graph = []\n",
    "for i in range(n):\n",
    "    graph.append([])\n",
    "\n",
    "for i in range(m):\n",
    "    way = list(map(int,input().split()))\n",
    "    graph[way[0]-1].append(way[1]-1)\n",
    "\n",
    "def bfs(graph, start, x, dist, visited):\n",
    "    queue = deque([start-1])\n",
    "    \n",
    "    visited[start] = True\n",
    "    \n",
    "    while queue:\n",
    "        city = queue.popleft()\n",
    "        \n",
    "        for i in graph[city]:\n",
    "            if not visited[i]:\n",
    "                queue.append(i)\n",
    "                dist[i] += 1\n",
    "                visited[i] = True\n",
    "    \n",
    "    result = []\n",
    "    \n",
    "    for i in range(len(dist)):\n",
    "        if dist[i] == x:\n",
    "            result.append(i+1)\n",
    "    \n",
    "    result.sort()\n",
    "    if len(result) == 0:\n",
    "        print(-1)\n",
    "    else:\n",
    "        for i in result:\n",
    "            print(i)\n",
    "    \n",
    "dist = [0] * n\n",
    "visited = [False] * n\n",
    "\n",
    "bfs(graph, k, x, dist, visited)"
   ]
  },
  {
   "cell_type": "markdown",
   "metadata": {},
   "source": [
    "## 기출문제 (16) 연구소 **"
   ]
  },
  {
   "cell_type": "markdown",
   "metadata": {},
   "source": [
    "#### 메모\n",
    "시작 : 1:05\n",
    "\n",
    "대각선으로 막았을 경우 최대한의 공간 확보 가능\n",
    "1에서 벽까지 가는 최단 경로\n",
    "\n",
    "2와도 제일 가깝고\n",
    "1에서 이동했을 때 다른 벽이 나오게!\n",
    "대각선 이동 가능\n",
    "\n",
    "바깥쪽 3, visited\n",
    "\n",
    "안전영역 크기: \n",
    "\n",
    "2에서 출발해서 모든 벽에 부딪히는게 아니라면 갇힌것\n",
    "\n",
    "2를 제일 작게 만든다 = 0을 제일 크게 만든다\n",
    "\n",
    "2와 제일 가까운 애부터~~~\n",
    "가장 \n"
   ]
  },
  {
   "cell_type": "code",
   "execution_count": null,
   "metadata": {},
   "outputs": [],
   "source": [
    "from collections import deque\n",
    "\n",
    "wall = 3\n",
    "\n",
    "n,m = map(int, input().split())\n",
    "graph = []\n",
    "for i in range(n):\n",
    "    graph.append(list(map(input()).split()))\n",
    "\n",
    "dx = [0,0,1,-1,1,1,-1,-1]\n",
    "dy = [1,-1,0,0,1,-1,1,-1]\n",
    "\n",
    "def bfs(graph, start_x, start_y visited):\n",
    "    queue = deque([(start_x,start_y)])\n",
    "    \n",
    "    while queue:\n",
    "        x,y = queue.popleft()\n",
    "        for i in range(8):\n",
    "            nx = x+dx[i]\n",
    "            ny = y+dy[i]\n",
    "            \n",
    "            if nx<0 or ny<0 or nx>=n or ny>=m:\n",
    "                continue\n",
    "            elif graph[nx][ny] == 1 :\n",
    "                \n",
    "\n",
    "def dfs(graph, v, visited):\n",
    "    visited[v] = True\n",
    "    \n",
    "    for i in graph[v]\n",
    "    \n",
    "    \n",
    "    \n",
    "    for i in n:\n",
    "        for j in m:\n",
    "            if graph[i,j] == 0:\n",
    "                "
   ]
  },
  {
   "cell_type": "markdown",
   "metadata": {},
   "source": [
    "## 기출문제(17) 경쟁적 전염"
   ]
  },
  {
   "cell_type": "code",
   "execution_count": 14,
   "metadata": {},
   "outputs": [
    {
     "name": "stdin",
     "output_type": "stream",
     "text": [
      " 3 3\n",
      " 1 0 2\n",
      " 0 0 0\n",
      " 3 0 0\n",
      " 2 3 2\n"
     ]
    },
    {
     "name": "stdout",
     "output_type": "stream",
     "text": [
      "3\n"
     ]
    }
   ],
   "source": [
    "from collections import deque\n",
    "\n",
    "n,k = map(int, input().split())\n",
    "\n",
    "graph = []\n",
    "temp = []\n",
    "\n",
    "for i in range(k):\n",
    "    temp.append([])\n",
    "\n",
    "for i in range(n):\n",
    "    line = list(map(int,input().split()))\n",
    "    \n",
    "    for j in range(len(line)):\n",
    "        if line[j] != 0:\n",
    "            temp[line[j]-1].append((i,j))\n",
    "    \n",
    "    graph.append(line)\n",
    "\n",
    "vrsForRound = []\n",
    "\n",
    "for i in temp:\n",
    "    for j in i:\n",
    "        vrsForRound.append(j)        \n",
    "\n",
    "s,final_x,final_y = map(int, input().split())\n",
    "\n",
    "dx = [0,0,1,-1]\n",
    "dy = [1,-1,0,0]\n",
    "\n",
    "def bfs(graph,vrsForRound,s,final_x,final_y):\n",
    "    \n",
    "    second = 1\n",
    "    \n",
    "    while second <= s :\n",
    "        queue = deque(vrsForRound)\n",
    "        next_round = []\n",
    "\n",
    "        while queue:\n",
    "            (x,y) = queue.popleft()\n",
    "\n",
    "            for direction in range(4):\n",
    "                nx = x + dx[direction]\n",
    "                ny = y + dy[direction]\n",
    "\n",
    "                if nx < 0 or ny <0 or nx>=n or ny>=n:\n",
    "                    continue\n",
    "                    \n",
    "                if graph[nx][ny] > 0:\n",
    "                    continue\n",
    "                    \n",
    "                if graph[nx][ny] == 0:\n",
    "                    graph[nx][ny] = graph[x][y]\n",
    "                    next_round.append((nx,ny))\n",
    "                \n",
    "        vrsForRound = next_round\n",
    "        second+=1\n",
    "    \n",
    "    print(graph[final_x-1][final_y-1])\n",
    "\n",
    "bfs(graph,vrsForRound,s,final_x,final_y)"
   ]
  },
  {
   "cell_type": "markdown",
   "metadata": {},
   "source": [
    "## 기출문제(18) 괄호 변환 **"
   ]
  },
  {
   "cell_type": "code",
   "execution_count": 64,
   "metadata": {
    "collapsed": true,
    "jupyter": {
     "outputs_hidden": true
    }
   },
   "outputs": [
    {
     "data": {
      "text/plain": [
       "'()'"
      ]
     },
     "execution_count": 64,
     "metadata": {},
     "output_type": "execute_result"
    }
   ],
   "source": [
    "from collections import deque\n",
    "\n",
    "def solution(p):\n",
    "    \n",
    "    answer = deque()\n",
    "    p = deque(p)\n",
    "    u = deque()\n",
    "    u_exist = False\n",
    "    \n",
    "    while p:\n",
    "        \n",
    "        left = 0\n",
    "        right = 0\n",
    "        \n",
    "        while left >= right and p:\n",
    "            temp = p.popleft()\n",
    "            if temp ==\"(\":\n",
    "                left +=1\n",
    "            else:\n",
    "                right +=1\n",
    "            answer.append(temp)\n",
    "        \n",
    "        if right > left:\n",
    "            u_exist = True\n",
    "            u.append(answer.pop())\n",
    "            u_left = 0\n",
    "            u_right = 1\n",
    "            \n",
    "            while u_left != u_right and p:\n",
    "                u_temp = p.popleft()\n",
    "                if u_temp == \"(\":\n",
    "                    u_left +=1\n",
    "                else:\n",
    "                    u_right +=1\n",
    "                u.append(u_temp)\n",
    "            \n",
    "            answer.append(\"(\")\n",
    "            u.popleft()\n",
    "            u.pop()\n",
    "            u.reverse()\n",
    "            \n",
    "    if u_exist:\n",
    "        answer.append(\")\")\n",
    "        answer += u\n",
    "    return \"\".join(answer)\n"
   ]
  },
  {
   "cell_type": "markdown",
   "metadata": {},
   "source": [
    "## 기출문제(15) 연산자 끼워넣기"
   ]
  },
  {
   "cell_type": "code",
   "execution_count": 67,
   "metadata": {},
   "outputs": [
    {
     "name": "stdin",
     "output_type": "stream",
     "text": [
      " 2\n",
      " 5 6\n",
      " 0 0 1 0\n"
     ]
    }
   ],
   "source": [
    "n = input()\n",
    "number = list(map(int,input().split()))\n",
    "calc = list(map(int, input().split()))\n",
    "calculated = [0] * (n-1)\n",
    "\n",
    "def bfs(number, cal, n):\n",
    "    graph = [[(number[0],cal)]]\n",
    "    for i in range(n):\n",
    "        for j in range(4):\n",
    "            if  \n",
    "        "
   ]
  },
  {
   "cell_type": "markdown",
   "metadata": {},
   "source": [
    "## 기출문제(19) 연산자 끼워넣기"
   ]
  },
  {
   "cell_type": "code",
   "execution_count": 67,
   "metadata": {},
   "outputs": [
    {
     "name": "stdin",
     "output_type": "stream",
     "text": [
      " 2\n",
      " 5 6\n",
      " 0 0 1 0\n"
     ]
    }
   ],
   "source": [
    "n = input()\n",
    "number = list(map(int,input().split()))\n",
    "calc = list(map(int, input().split()))\n",
    "calculated = [0] * (n-1)\n",
    "\n",
    "def bfs(number, cal, n):\n",
    "    graph = [[(number[0],cal)]]\n",
    "    for i in range(n):\n",
    "        for j in range(4):\n",
    "            if  \n",
    "        "
   ]
  },
  {
   "cell_type": "markdown",
   "metadata": {},
   "source": [
    "## 기출문제(20) 감시 피하기"
   ]
  },
  {
   "cell_type": "code",
   "execution_count": 93,
   "metadata": {},
   "outputs": [
    {
     "name": "stdin",
     "output_type": "stream",
     "text": [
      " 4\n",
      " S S S T\n"
     ]
    },
    {
     "name": "stdout",
     "output_type": "stream",
     "text": [
      "[(0, 3)]\n"
     ]
    },
    {
     "name": "stdin",
     "output_type": "stream",
     "text": [
      " X X X X\n"
     ]
    },
    {
     "name": "stdout",
     "output_type": "stream",
     "text": [
      "[(0, 3)]\n"
     ]
    },
    {
     "name": "stdin",
     "output_type": "stream",
     "text": [
      " X X X X\n"
     ]
    },
    {
     "name": "stdout",
     "output_type": "stream",
     "text": [
      "[(0, 3)]\n"
     ]
    },
    {
     "name": "stdin",
     "output_type": "stream",
     "text": [
      " T T T X\n"
     ]
    },
    {
     "name": "stdout",
     "output_type": "stream",
     "text": [
      "[(0, 3), (3, 0), (3, 1), (3, 2)]\n",
      "YES\n"
     ]
    }
   ],
   "source": [
    "n = int(input())\n",
    "graph = []\n",
    "obstacle = []\n",
    "teacher = []\n",
    "for i in range(n):\n",
    "    line = list(input().split())\n",
    "    graph.append(line)\n",
    "    for j in range(len(line)):\n",
    "        if line[j] == \"T\":\n",
    "            teacher.append((i,j))\n",
    "    \n",
    "    print(teacher)\n",
    "    \n",
    "dx = [0,0,1,-1]\n",
    "dy = [1,-1,0,0]\n",
    "\n",
    "def bfs(graph, obstacle, teacher):\n",
    "    for (x,y) in teacher:\n",
    "        for i in range(4):\n",
    "            cx = x\n",
    "            cy = y        \n",
    "            nx = cx + dx[i]\n",
    "            ny = cy + dy[i] \n",
    "\n",
    "            while 0<=nx<n and 0<=ny<0:\n",
    "                print(cx,cy, nx, ny)\n",
    "\n",
    "                if graph[ny][ny] == \"S\":\n",
    "                    obstacle.append((cx,cy))\n",
    "                    print(\"B\")\n",
    "                    print(obstacle)\n",
    "\n",
    "                if graph[nx][ny] == \"X\":\n",
    "                    print(\"C\")\n",
    "                    cx = nx\n",
    "                    cy = ny\n",
    "                    print(cx,cy)\n",
    "    \n",
    "    if len(set(obstacle)) <= 3 :\n",
    "        print(\"YES\")\n",
    "    else:\n",
    "        print(\"NO\")\n",
    "\n",
    "bfs(graph, obstacle, teacher)"
   ]
  },
  {
   "cell_type": "markdown",
   "metadata": {},
   "source": [
    "## 기출문제(21) 인구이동"
   ]
  },
  {
   "cell_type": "code",
   "execution_count": 100,
   "metadata": {},
   "outputs": [
    {
     "name": "stdin",
     "output_type": "stream",
     "text": [
      " 2 40 50\n",
      " 30 30\n",
      " 20 40\n"
     ]
    },
    {
     "ename": "NameError",
     "evalue": "name 'm' is not defined",
     "output_type": "error",
     "traceback": [
      "\u001b[0;31m---------------------------------------------------------------------------\u001b[0m",
      "\u001b[0;31mNameError\u001b[0m                                 Traceback (most recent call last)",
      "\u001b[0;32m<ipython-input-100-cdb4cf0d6996>\u001b[0m in \u001b[0;36m<module>\u001b[0;34m\u001b[0m\n\u001b[1;32m     11\u001b[0m \u001b[0mdy\u001b[0m \u001b[0;34m=\u001b[0m \u001b[0;34m[\u001b[0m\u001b[0;36m1\u001b[0m\u001b[0;34m,\u001b[0m\u001b[0;34m-\u001b[0m\u001b[0;36m1\u001b[0m\u001b[0;34m,\u001b[0m\u001b[0;36m0\u001b[0m\u001b[0;34m,\u001b[0m\u001b[0;36m0\u001b[0m\u001b[0;34m]\u001b[0m\u001b[0;34m\u001b[0m\u001b[0;34m\u001b[0m\u001b[0m\n\u001b[1;32m     12\u001b[0m \u001b[0;34m\u001b[0m\u001b[0m\n\u001b[0;32m---> 13\u001b[0;31m \u001b[0mvisit\u001b[0m \u001b[0;34m=\u001b[0m \u001b[0;34m(\u001b[0m\u001b[0;34m[\u001b[0m\u001b[0;32mFalse\u001b[0m\u001b[0;34m]\u001b[0m\u001b[0;34m*\u001b[0m\u001b[0mn\u001b[0m\u001b[0;34m)\u001b[0m\u001b[0;34m*\u001b[0m\u001b[0mm\u001b[0m\u001b[0;34m\u001b[0m\u001b[0;34m\u001b[0m\u001b[0m\n\u001b[0m\u001b[1;32m     14\u001b[0m \u001b[0mop\u001b[0m \u001b[0;34m=\u001b[0m \u001b[0;34m(\u001b[0m\u001b[0;34m[\u001b[0m\u001b[0;32mFalse\u001b[0m\u001b[0;34m]\u001b[0m\u001b[0;34m*\u001b[0m\u001b[0mn\u001b[0m\u001b[0;34m)\u001b[0m\u001b[0;34m*\u001b[0m\u001b[0mm\u001b[0m\u001b[0;34m\u001b[0m\u001b[0;34m\u001b[0m\u001b[0m\n\u001b[1;32m     15\u001b[0m \u001b[0;34m\u001b[0m\u001b[0m\n",
      "\u001b[0;31mNameError\u001b[0m: name 'm' is not defined"
     ]
    }
   ],
   "source": [
    "result = 0\n",
    "(n,l,r) = map(int,input().split())\n",
    "\n",
    "graph = []\n",
    "\n",
    "\n",
    "for i in range(n):\n",
    "    graph.append(list(map(int,input().split())))\n",
    "\n",
    "dx = [0,0,1,-1]\n",
    "dy = [1,-1,0,0]\n",
    "\n",
    "visit = ([False]*n)*n\n",
    "op = ([False]*n)*n\n",
    "\n",
    "def dfs(graph, opened, x, y):\n",
    "    people = 0\n",
    "    nation = 0\n",
    "    openlist = []\n",
    "    \n",
    "    if x<=-1 or x>=n or y<=-1 or y>=n:\n",
    "        return False\n",
    "    if opened[x][y] == True:\n",
    "        opened[x][y] = False\n",
    "        nation +=1\n",
    "        people += graph[x][y]\n",
    "        openlist.append((x,y))\n",
    "        \n",
    "        dfs(opened,x+1,y)\n",
    "        dfs(opened,x-1,y)\n",
    "        dfs(opened,x,y+1)\n",
    "        dfs(opened,x,y-1)\n",
    "    \n",
    "    for (open_x, open_y) in openlist:\n",
    "        graph[open_x][open_y] = people/nation\n",
    "    \n",
    "    return graph\n",
    "\n",
    "def bfs(graph, opened, visited, start_x, start_y):\n",
    "    \n",
    "    queue = deque([(start_x,start_y)])\n",
    "    \n",
    "    while queue:\n",
    "        cx,cy = queue.popleft()\n",
    "        visited[cx][cy] = True\n",
    "        \n",
    "        for i in range(4):\n",
    "            nx = cx + dx\n",
    "            ny = cy + dy\n",
    "\n",
    "            if nx<0 or nx>=n or ny<0 or ny>=n:\n",
    "                continue\n",
    "            \n",
    "            if visited[nx][ny] == 1:\n",
    "                continue\n",
    "            \n",
    "            if  visited[nx][ny] == 0:\n",
    "                visited[nx][ny] = True\n",
    "                queue.append((nx,ny))\n",
    "                \n",
    "                if l <abs(graph[nx][ny] - graph[cx,cy])< r:\n",
    "                    opened[cx][cy] = True\n",
    "                    opened[nx][ny] = True #opened에 열려야할 국가들 True 표시된 채로 끝남\n",
    "   \n",
    "    for i in range(n):\n",
    "        for j in range(n):\n",
    "            graph = dfs(graph, opened, i, j)\n",
    "    \n",
    "    if graph != 0:\n",
    "        \n",
    "        bfs(graph, op,visit, 0,0)"
   ]
  },
  {
   "cell_type": "code",
   "execution_count": null,
   "metadata": {},
   "outputs": [],
   "source": []
  }
 ],
 "metadata": {
  "kernelspec": {
   "display_name": "Python 3",
   "language": "python",
   "name": "python3"
  },
  "language_info": {
   "codemirror_mode": {
    "name": "ipython",
    "version": 3
   },
   "file_extension": ".py",
   "mimetype": "text/x-python",
   "name": "python",
   "nbconvert_exporter": "python",
   "pygments_lexer": "ipython3",
   "version": "3.8.5"
  }
 },
 "nbformat": 4,
 "nbformat_minor": 4
}
